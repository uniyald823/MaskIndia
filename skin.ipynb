{
 "cells": [
  {
   "cell_type": "code",
   "execution_count": 16,
   "metadata": {},
   "outputs": [
    {
     "data": {
      "text/html": [
       "<div>\n",
       "<style scoped>\n",
       "    .dataframe tbody tr th:only-of-type {\n",
       "        vertical-align: middle;\n",
       "    }\n",
       "\n",
       "    .dataframe tbody tr th {\n",
       "        vertical-align: top;\n",
       "    }\n",
       "\n",
       "    .dataframe thead th {\n",
       "        text-align: right;\n",
       "    }\n",
       "</style>\n",
       "<table border=\"1\" class=\"dataframe\">\n",
       "  <thead>\n",
       "    <tr style=\"text-align: right;\">\n",
       "      <th></th>\n",
       "      <th>Percentage</th>\n",
       "      <th>Numbers</th>\n",
       "      <th>Problems</th>\n",
       "    </tr>\n",
       "  </thead>\n",
       "  <tbody>\n",
       "    <tr>\n",
       "      <th>0</th>\n",
       "      <td>5.70</td>\n",
       "      <td>13</td>\n",
       "      <td>Acne or pimples</td>\n",
       "    </tr>\n",
       "    <tr>\n",
       "      <th>1</th>\n",
       "      <td>8.80</td>\n",
       "      <td>20</td>\n",
       "      <td>rashes and irritations</td>\n",
       "    </tr>\n",
       "    <tr>\n",
       "      <th>2</th>\n",
       "      <td>11.50</td>\n",
       "      <td>26</td>\n",
       "      <td>suffocation and breathing</td>\n",
       "    </tr>\n",
       "    <tr>\n",
       "      <th>3</th>\n",
       "      <td>4.86</td>\n",
       "      <td>11</td>\n",
       "      <td>others</td>\n",
       "    </tr>\n",
       "  </tbody>\n",
       "</table>\n",
       "</div>"
      ],
      "text/plain": [
       "   Percentage  Numbers                    Problems\n",
       "0        5.70       13             Acne or pimples\n",
       "1        8.80       20      rashes and irritations\n",
       "2       11.50       26   suffocation and breathing\n",
       "3        4.86       11                      others"
      ]
     },
     "execution_count": 16,
     "metadata": {},
     "output_type": "execute_result"
    }
   ],
   "source": [
    "import matplotlib.pyplot as plt\n",
    "import pandas as pd\n",
    "data = pd.read_csv(\"C:/Users/Drishya/Desktop/major_project/skin_problems.csv\")  \n",
    "data.head(5)"
   ]
  },
  {
   "cell_type": "code",
   "execution_count": 17,
   "metadata": {},
   "outputs": [
    {
     "data": {
      "image/png": "[encoded data removed]",
      "text/plain": [
       "<Figure size 1440x360 with 1 Axes>"
      ]
     },
     "metadata": {
      "needs_background": "light"
     },
     "output_type": "display_data"
    }
   ],
   "source": [
    "df = pd.DataFrame(data)  \n",
    "X = list(df.iloc[:, 2])\n",
    "Y = list(df.iloc[:, 0])\n",
    "plt.figure(figsize=(20,5))\n",
    "plt.bar(X, Y, color='r')\n",
    "plt.title(\"Skin problems\")\n",
    "plt.xlabel(\"Types of Skin problems\")\n",
    "plt.ylabel(\"Percentage of skin problems\")  \n",
    "plt.grid(color = 'green', linestyle = '--', linewidth = 0.5)\n",
    "# Show the plot\n",
    "plt.show()\n"
   ]
  },
  {
   "cell_type": "code",
   "execution_count": 18,
   "metadata": {},
   "outputs": [],
   "source": [
    "from tkinter import *    \n",
    "import os\n",
    "from PIL import Image, ImageTk\n",
    "    \n",
    "win=Tk()\n",
    "def skin():\n",
    "\n",
    "    text2 = Text(win, height=50, width=250)\n",
    "    scroll = Scrollbar(win, command=text2.yview)\n",
    "    text2.configure(yscrollcommand=scroll.set)\n",
    "    text2.tag_configure('bold_italics', font=('Arial', 12, 'bold', 'italic'))\n",
    "    text2.tag_configure('big', font=('Verdana', 20, 'bold'))\n",
    "    text2.tag_configure('color',\n",
    "                        foreground='#476042',\n",
    "                        font=('Tempus Sans ITC', 12, 'bold'))\n",
    "    text2.tag_bind('follow',\n",
    "                   '<1>',\n",
    "                   lambda e, t=text2: t.insert(END, \"Not now, maybe later!\"))\n",
    "    text2.insert(END,'\\n A Detailed Analysis\\n', 'big')\n",
    "    quote = \"\"\"\n",
    "    How many people wear a mask?\\n\n",
    "    Types of problems by wearing a mask?\\n\n",
    "    After the collection and analysis of data ( around 226 people participated in the survey) for India, we found that there are some skin problems as well as other problems caused\n",
    "    by wearing masks.\n",
    "    Namely pimples/acne, irritations, rashes, suffocation, breathing etc. Amongst them suffocation is the most common problem and rashes and irritations are some common skin diseases.\n",
    "    Around 69% of people do not face any problem while wearing a mask.\n",
    "\n",
    "    \"\"\"\n",
    "    text2.insert(END, quote, 'color')\n",
    "    text2.insert(END, 'follow-up\\n', 'follow')\n",
    "    text2.pack(side=LEFT)\n",
    "    scroll.pack(side=RIGHT, fill=Y)\n",
    "\n",
    "    scroll_bar = Scrollbar(win)\n",
    "\n",
    "    # Pack the scroll bar\n",
    "    # Place it to the right side, using tk.RIGHT\n",
    "    scroll_bar.pack(side=RIGHT)\n",
    "\n",
    "    image1 = Image.open(\"C:/Users/Drishya/Desktop/major_project/skin problems.png\")\n",
    "    image = image1.resize((850, 420), Image.ANTIALIAS)\n",
    "    test = ImageTk.PhotoImage(image)\n",
    "\n",
    "    label1 = Label(image=test)\n",
    "    label1.image = test\n",
    "\n",
    "    # Position image\n",
    "    label1.place(x=0, y=350)\n",
    "    \n",
    "skin()\n",
    "win.mainloop()"
   ]
  },
  {
   "cell_type": "code",
   "execution_count": null,
   "metadata": {},
   "outputs": [],
   "source": []
  },
  {
   "cell_type": "code",
   "execution_count": null,
   "metadata": {},
   "outputs": [],
   "source": []
  }
 ],
 "metadata": {
  "kernelspec": {
   "display_name": "Python 3",
   "language": "python",
   "name": "python3"
  },
  "language_info": {
   "codemirror_mode": {
    "name": "ipython",
    "version": 3
   },
   "file_extension": ".py",
   "mimetype": "text/x-python",
   "name": "python",
   "nbconvert_exporter": "python",
   "pygments_lexer": "ipython3",
   "version": "3.8.5"
  }
 },
 "nbformat": 4,
 "nbformat_minor": 4
}
